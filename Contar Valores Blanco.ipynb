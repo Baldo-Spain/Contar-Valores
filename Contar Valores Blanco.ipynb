{
 "cells": [
  {
   "cell_type": "markdown",
   "id": "c4004998",
   "metadata": {},
   "source": [
    "<div style=\"background-color:rgba(200, 200, 460, 1); text-align:center; vertical-align: middle; padding:40px 0;\">\n",
    "<font size = \"40\"> Contar </font>\n",
    "</div>"
   ]
  },
  {
   "cell_type": "markdown",
   "id": "2afd143b",
   "metadata": {},
   "source": [
    "1) Contar los valores de una variable.\n",
    "\n",
    "2) Contar los valores de una variable en función de otra variable.\n",
    "\n",
    "3) Calcular las frecuencias relativas. (Normalización)\n",
    "\n",
    "4) Ordenar por aparición.\n",
    "\n",
    "5) Utilizar \"bins\" en lugar de contar los valores. \n",
    " * Crear un histograma de 3 bins."
   ]
  },
  {
   "cell_type": "markdown",
   "id": "d3b21664",
   "metadata": {},
   "source": [
    "#### Importar Pandas"
   ]
  },
  {
   "cell_type": "code",
   "execution_count": null,
   "id": "6319484b",
   "metadata": {},
   "outputs": [],
   "source": []
  },
  {
   "cell_type": "markdown",
   "id": "6b34ec8b",
   "metadata": {},
   "source": [
    "#### Leer el archivo personas para trabajar con él."
   ]
  },
  {
   "cell_type": "code",
   "execution_count": null,
   "id": "51dcd864",
   "metadata": {},
   "outputs": [],
   "source": []
  },
  {
   "cell_type": "markdown",
   "id": "987d55c2",
   "metadata": {},
   "source": [
    "#### Mostrar las primeras filas del archivo \"personas.csv\""
   ]
  },
  {
   "cell_type": "code",
   "execution_count": null,
   "id": "e109bdbb",
   "metadata": {},
   "outputs": [],
   "source": []
  },
  {
   "cell_type": "markdown",
   "id": "3efcc28d",
   "metadata": {},
   "source": [
    "### 1) Contar los valores únicos de una variable"
   ]
  },
  {
   "cell_type": "markdown",
   "id": "96048a26",
   "metadata": {},
   "source": [
    "<img src=\"C1.png\">"
   ]
  },
  {
   "cell_type": "markdown",
   "id": "77a42745",
   "metadata": {},
   "source": [
    "#### Contar el total de alumnos que hay en cada \"Clase\"\n",
    "#### Método 1"
   ]
  },
  {
   "cell_type": "code",
   "execution_count": null,
   "id": "e7a7dede",
   "metadata": {},
   "outputs": [],
   "source": []
  },
  {
   "cell_type": "markdown",
   "id": "18533795",
   "metadata": {},
   "source": [
    "#### Método 2"
   ]
  },
  {
   "cell_type": "code",
   "execution_count": null,
   "id": "e7209282",
   "metadata": {},
   "outputs": [],
   "source": []
  },
  {
   "cell_type": "markdown",
   "id": "647398de",
   "metadata": {},
   "source": [
    "### 2) Contar los valores únicos de una variable en función de otra variable."
   ]
  },
  {
   "cell_type": "markdown",
   "id": "170fc456",
   "metadata": {},
   "source": [
    "<img src=\"C2.png\">"
   ]
  },
  {
   "cell_type": "markdown",
   "id": "15e30f66",
   "metadata": {},
   "source": [
    "#### 2.1) Contar edades por clases\n",
    "#### Método 1"
   ]
  },
  {
   "cell_type": "code",
   "execution_count": null,
   "id": "48ca99f5",
   "metadata": {},
   "outputs": [],
   "source": []
  },
  {
   "cell_type": "markdown",
   "id": "d89553de",
   "metadata": {},
   "source": [
    "#### Método 2"
   ]
  },
  {
   "cell_type": "code",
   "execution_count": null,
   "id": "a38ede4c",
   "metadata": {},
   "outputs": [],
   "source": []
  },
  {
   "cell_type": "markdown",
   "id": "ad89b0ad",
   "metadata": {},
   "source": [
    "#### Un poco de orden"
   ]
  },
  {
   "cell_type": "code",
   "execution_count": null,
   "id": "99cd038f",
   "metadata": {},
   "outputs": [],
   "source": []
  },
  {
   "cell_type": "markdown",
   "id": "84dd0005",
   "metadata": {},
   "source": [
    "### 3) Calcular las frecuencias relativas. (Normalización)"
   ]
  },
  {
   "cell_type": "markdown",
   "id": "49ad758c",
   "metadata": {},
   "source": [
    "#### Contar las frecuencias relativas por \"País\""
   ]
  },
  {
   "cell_type": "code",
   "execution_count": null,
   "id": "244622b3",
   "metadata": {},
   "outputs": [],
   "source": []
  },
  {
   "cell_type": "markdown",
   "id": "d010c110",
   "metadata": {},
   "source": [
    "#### Comprobar las frecuencias sin normalizar"
   ]
  },
  {
   "cell_type": "code",
   "execution_count": null,
   "id": "c7d1bd9c",
   "metadata": {},
   "outputs": [],
   "source": []
  },
  {
   "cell_type": "markdown",
   "id": "0766267b",
   "metadata": {},
   "source": [
    "### 4) Ordenar por aparición."
   ]
  },
  {
   "cell_type": "markdown",
   "id": "b81fcac9",
   "metadata": {},
   "source": [
    "#### Contar los apellidos y ordenarlos por aparición. (No por frecuencia)"
   ]
  },
  {
   "cell_type": "code",
   "execution_count": null,
   "id": "86a3bb9d",
   "metadata": {},
   "outputs": [],
   "source": []
  },
  {
   "cell_type": "markdown",
   "id": "f7f552f6",
   "metadata": {},
   "source": [
    "### 5) Utilizar \"bins\" en lugar de contar los valores."
   ]
  },
  {
   "cell_type": "markdown",
   "id": "55f9cc24",
   "metadata": {},
   "source": [
    "#### Calcular tres grupos para la variable \"Altura\" y contar cuántos pertenecen a cada grupo."
   ]
  },
  {
   "cell_type": "code",
   "execution_count": null,
   "id": "1275a2e2",
   "metadata": {},
   "outputs": [],
   "source": []
  },
  {
   "cell_type": "markdown",
   "id": "d40325a6",
   "metadata": {},
   "source": [
    "### Crear un histograma\n",
    "#### Importar matplotlib.pyplot"
   ]
  },
  {
   "cell_type": "code",
   "execution_count": 9,
   "id": "ee0be0dc",
   "metadata": {},
   "outputs": [],
   "source": [
    "import matplotlib.pyplot as plt"
   ]
  },
  {
   "cell_type": "markdown",
   "id": "bb52f70b",
   "metadata": {},
   "source": [
    "#### Crear un histograma de la variable \"Altura\" aplicando 5 bins."
   ]
  },
  {
   "cell_type": "code",
   "execution_count": null,
   "id": "c23a2071",
   "metadata": {},
   "outputs": [],
   "source": []
  },
  {
   "cell_type": "code",
   "execution_count": null,
   "id": "895d52e6",
   "metadata": {},
   "outputs": [],
   "source": []
  }
 ],
 "metadata": {
  "kernelspec": {
   "display_name": "Python 3 (ipykernel)",
   "language": "python",
   "name": "python3"
  },
  "language_info": {
   "codemirror_mode": {
    "name": "ipython",
    "version": 3
   },
   "file_extension": ".py",
   "mimetype": "text/x-python",
   "name": "python",
   "nbconvert_exporter": "python",
   "pygments_lexer": "ipython3",
   "version": "3.9.7"
  }
 },
 "nbformat": 4,
 "nbformat_minor": 5
}
